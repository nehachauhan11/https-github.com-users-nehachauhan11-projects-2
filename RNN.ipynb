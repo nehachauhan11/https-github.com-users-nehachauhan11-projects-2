{
 "cells": [
  {
   "cell_type": "markdown",
   "id": "7f09f825-e92f-4ef6-9b15-7d55d6d1b6e0",
   "metadata": {},
   "source": [
    "# Recurrent Neural Network(RNN) , it is known as forward recurrent neural network.Are the state of the art algorithm for sequential data and are used by Apple's Siri and Google's voice search. It is the first algorithm that remembers the input, due to an internal memory, which makes it perfectly suited for machine learning problems that involve sequential data\n",
    "1. Sequence\n",
    "2. Time series Data"
   ]
  },
  {
   "cell_type": "markdown",
   "id": "bf5a6a7f-1be9-4438-ab82-88a9f3b4261c",
   "metadata": {},
   "source": [
    "* Types of Recurrent Neural Network\n",
    "1. one to one(ex.SIMPLE ML PROBLEM)\n",
    "2. one to many(ex.IMAGE CAPTIONING)\n",
    "3. many to many(ex.GOOGLE TRANSLATE, SPEECH TRANSLATE(MACHINE TRANSLATE)\n",
    "4. many to one(ex.REVIEW SEGMENTATION)"
   ]
  },
  {
   "cell_type": "code",
   "execution_count": 1,
   "id": "5bbf2e36-17a5-41db-97b7-e170a7830606",
   "metadata": {},
   "outputs": [],
   "source": [
    "import numpy as np\n",
    "import pandas as pd\n",
    "import matplotlib.pyplot as plt\n",
    "import seaborn as sns\n",
    "import warnings\n",
    "warnings.filterwarnings(action = 'ignore')"
   ]
  },
  {
   "cell_type": "code",
   "execution_count": 2,
   "id": "c9cdcb00-a8cd-414c-bfad-a32c9ba8b312",
   "metadata": {},
   "outputs": [],
   "source": [
    "df = pd.read_csv('Google_Stock_Price_train.csv')"
   ]
  },
  {
   "cell_type": "code",
   "execution_count": 3,
   "id": "15c4f86e-2a28-4b16-b228-2e4517cb2e56",
   "metadata": {
    "tags": []
   },
   "outputs": [
    {
     "data": {
      "text/html": [
       "<div>\n",
       "<style scoped>\n",
       "    .dataframe tbody tr th:only-of-type {\n",
       "        vertical-align: middle;\n",
       "    }\n",
       "\n",
       "    .dataframe tbody tr th {\n",
       "        vertical-align: top;\n",
       "    }\n",
       "\n",
       "    .dataframe thead th {\n",
       "        text-align: right;\n",
       "    }\n",
       "</style>\n",
       "<table border=\"1\" class=\"dataframe\">\n",
       "  <thead>\n",
       "    <tr style=\"text-align: right;\">\n",
       "      <th></th>\n",
       "      <th>Date</th>\n",
       "      <th>Open</th>\n",
       "      <th>High</th>\n",
       "      <th>Low</th>\n",
       "      <th>Close</th>\n",
       "      <th>Volume</th>\n",
       "    </tr>\n",
       "  </thead>\n",
       "  <tbody>\n",
       "    <tr>\n",
       "      <th>0</th>\n",
       "      <td>1/3/2012</td>\n",
       "      <td>325.25</td>\n",
       "      <td>332.83</td>\n",
       "      <td>324.97</td>\n",
       "      <td>663.59</td>\n",
       "      <td>7,380,500</td>\n",
       "    </tr>\n",
       "    <tr>\n",
       "      <th>1</th>\n",
       "      <td>1/4/2012</td>\n",
       "      <td>331.27</td>\n",
       "      <td>333.87</td>\n",
       "      <td>329.08</td>\n",
       "      <td>666.45</td>\n",
       "      <td>5,749,400</td>\n",
       "    </tr>\n",
       "    <tr>\n",
       "      <th>2</th>\n",
       "      <td>1/5/2012</td>\n",
       "      <td>329.83</td>\n",
       "      <td>330.75</td>\n",
       "      <td>326.89</td>\n",
       "      <td>657.21</td>\n",
       "      <td>6,590,300</td>\n",
       "    </tr>\n",
       "    <tr>\n",
       "      <th>3</th>\n",
       "      <td>1/6/2012</td>\n",
       "      <td>328.34</td>\n",
       "      <td>328.77</td>\n",
       "      <td>323.68</td>\n",
       "      <td>648.24</td>\n",
       "      <td>5,405,900</td>\n",
       "    </tr>\n",
       "    <tr>\n",
       "      <th>4</th>\n",
       "      <td>1/9/2012</td>\n",
       "      <td>322.04</td>\n",
       "      <td>322.29</td>\n",
       "      <td>309.46</td>\n",
       "      <td>620.76</td>\n",
       "      <td>11,688,800</td>\n",
       "    </tr>\n",
       "    <tr>\n",
       "      <th>5</th>\n",
       "      <td>1/10/2012</td>\n",
       "      <td>313.70</td>\n",
       "      <td>315.72</td>\n",
       "      <td>307.30</td>\n",
       "      <td>621.43</td>\n",
       "      <td>8,824,000</td>\n",
       "    </tr>\n",
       "  </tbody>\n",
       "</table>\n",
       "</div>"
      ],
      "text/plain": [
       "        Date    Open    High     Low   Close      Volume\n",
       "0   1/3/2012  325.25  332.83  324.97  663.59   7,380,500\n",
       "1   1/4/2012  331.27  333.87  329.08  666.45   5,749,400\n",
       "2   1/5/2012  329.83  330.75  326.89  657.21   6,590,300\n",
       "3   1/6/2012  328.34  328.77  323.68  648.24   5,405,900\n",
       "4   1/9/2012  322.04  322.29  309.46  620.76  11,688,800\n",
       "5  1/10/2012  313.70  315.72  307.30  621.43   8,824,000"
      ]
     },
     "execution_count": 3,
     "metadata": {},
     "output_type": "execute_result"
    }
   ],
   "source": [
    "df.head(6)"
   ]
  },
  {
   "cell_type": "code",
   "execution_count": 4,
   "id": "ca2b8b98-17a1-4011-a495-9052dba7e11d",
   "metadata": {},
   "outputs": [
    {
     "name": "stdout",
     "output_type": "stream",
     "text": [
      "<class 'pandas.core.frame.DataFrame'>\n",
      "RangeIndex: 1258 entries, 0 to 1257\n",
      "Data columns (total 6 columns):\n",
      " #   Column  Non-Null Count  Dtype  \n",
      "---  ------  --------------  -----  \n",
      " 0   Date    1258 non-null   object \n",
      " 1   Open    1258 non-null   float64\n",
      " 2   High    1258 non-null   float64\n",
      " 3   Low     1258 non-null   float64\n",
      " 4   Close   1258 non-null   object \n",
      " 5   Volume  1258 non-null   object \n",
      "dtypes: float64(3), object(3)\n",
      "memory usage: 59.1+ KB\n"
     ]
    }
   ],
   "source": [
    "df.info()"
   ]
  },
  {
   "cell_type": "code",
   "execution_count": 5,
   "id": "933254e9-ab03-4184-bae6-e7af1aea4a66",
   "metadata": {},
   "outputs": [
    {
     "data": {
      "text/html": [
       "<div>\n",
       "<style scoped>\n",
       "    .dataframe tbody tr th:only-of-type {\n",
       "        vertical-align: middle;\n",
       "    }\n",
       "\n",
       "    .dataframe tbody tr th {\n",
       "        vertical-align: top;\n",
       "    }\n",
       "\n",
       "    .dataframe thead th {\n",
       "        text-align: right;\n",
       "    }\n",
       "</style>\n",
       "<table border=\"1\" class=\"dataframe\">\n",
       "  <thead>\n",
       "    <tr style=\"text-align: right;\">\n",
       "      <th></th>\n",
       "      <th>Open</th>\n",
       "      <th>High</th>\n",
       "      <th>Low</th>\n",
       "    </tr>\n",
       "  </thead>\n",
       "  <tbody>\n",
       "    <tr>\n",
       "      <th>count</th>\n",
       "      <td>1258.000000</td>\n",
       "      <td>1258.000000</td>\n",
       "      <td>1258.000000</td>\n",
       "    </tr>\n",
       "    <tr>\n",
       "      <th>mean</th>\n",
       "      <td>533.709833</td>\n",
       "      <td>537.880223</td>\n",
       "      <td>529.007409</td>\n",
       "    </tr>\n",
       "    <tr>\n",
       "      <th>std</th>\n",
       "      <td>151.904442</td>\n",
       "      <td>153.008811</td>\n",
       "      <td>150.552807</td>\n",
       "    </tr>\n",
       "    <tr>\n",
       "      <th>min</th>\n",
       "      <td>279.120000</td>\n",
       "      <td>281.210000</td>\n",
       "      <td>277.220000</td>\n",
       "    </tr>\n",
       "    <tr>\n",
       "      <th>25%</th>\n",
       "      <td>404.115000</td>\n",
       "      <td>406.765000</td>\n",
       "      <td>401.765000</td>\n",
       "    </tr>\n",
       "    <tr>\n",
       "      <th>50%</th>\n",
       "      <td>537.470000</td>\n",
       "      <td>540.750000</td>\n",
       "      <td>532.990000</td>\n",
       "    </tr>\n",
       "    <tr>\n",
       "      <th>75%</th>\n",
       "      <td>654.922500</td>\n",
       "      <td>662.587500</td>\n",
       "      <td>644.800000</td>\n",
       "    </tr>\n",
       "    <tr>\n",
       "      <th>max</th>\n",
       "      <td>816.680000</td>\n",
       "      <td>816.680000</td>\n",
       "      <td>805.140000</td>\n",
       "    </tr>\n",
       "  </tbody>\n",
       "</table>\n",
       "</div>"
      ],
      "text/plain": [
       "              Open         High          Low\n",
       "count  1258.000000  1258.000000  1258.000000\n",
       "mean    533.709833   537.880223   529.007409\n",
       "std     151.904442   153.008811   150.552807\n",
       "min     279.120000   281.210000   277.220000\n",
       "25%     404.115000   406.765000   401.765000\n",
       "50%     537.470000   540.750000   532.990000\n",
       "75%     654.922500   662.587500   644.800000\n",
       "max     816.680000   816.680000   805.140000"
      ]
     },
     "execution_count": 5,
     "metadata": {},
     "output_type": "execute_result"
    }
   ],
   "source": [
    "df.describe()"
   ]
  },
  {
   "cell_type": "code",
   "execution_count": 6,
   "id": "a3699e38-aa4c-400b-b1e9-858e1d5e7e92",
   "metadata": {},
   "outputs": [
    {
     "data": {
      "text/plain": [
       "(1258, 6)"
      ]
     },
     "execution_count": 6,
     "metadata": {},
     "output_type": "execute_result"
    }
   ],
   "source": [
    "df.shape"
   ]
  },
  {
   "cell_type": "code",
   "execution_count": 7,
   "id": "5876b817-a7e8-49ab-9499-8fdc548029a7",
   "metadata": {},
   "outputs": [
    {
     "data": {
      "text/plain": [
       "7548"
      ]
     },
     "execution_count": 7,
     "metadata": {},
     "output_type": "execute_result"
    }
   ],
   "source": [
    "df.size"
   ]
  },
  {
   "cell_type": "code",
   "execution_count": 8,
   "id": "6279acab-5c4c-4aa8-a86b-bbd9b6eeeea1",
   "metadata": {},
   "outputs": [
    {
     "data": {
      "text/plain": [
       "Index(['Date', 'Open', 'High', 'Low', 'Close', 'Volume'], dtype='object')"
      ]
     },
     "execution_count": 8,
     "metadata": {},
     "output_type": "execute_result"
    }
   ],
   "source": [
    "df.columns"
   ]
  },
  {
   "cell_type": "code",
   "execution_count": 9,
   "id": "6dea2ad4-208b-4507-8379-73b72f4a0c8d",
   "metadata": {},
   "outputs": [
    {
     "data": {
      "text/plain": [
       "Date      0\n",
       "Open      0\n",
       "High      0\n",
       "Low       0\n",
       "Close     0\n",
       "Volume    0\n",
       "dtype: int64"
      ]
     },
     "execution_count": 9,
     "metadata": {},
     "output_type": "execute_result"
    }
   ],
   "source": [
    "df.isnull().sum()"
   ]
  },
  {
   "cell_type": "code",
   "execution_count": 10,
   "id": "439ad83e-b211-4403-ab29-51338ee975b1",
   "metadata": {},
   "outputs": [
    {
     "data": {
      "text/plain": [
       "Date      0.0\n",
       "Open      0.0\n",
       "High      0.0\n",
       "Low       0.0\n",
       "Close     0.0\n",
       "Volume    0.0\n",
       "dtype: float64"
      ]
     },
     "execution_count": 10,
     "metadata": {},
     "output_type": "execute_result"
    }
   ],
   "source": [
    "df.isnull().sum()/len(df)"
   ]
  },
  {
   "cell_type": "code",
   "execution_count": 11,
   "id": "02a392b9-5903-448b-8a40-17e42fd90ab9",
   "metadata": {},
   "outputs": [
    {
     "data": {
      "text/plain": [
       "Date      0.0\n",
       "Open      0.0\n",
       "High      0.0\n",
       "Low       0.0\n",
       "Close     0.0\n",
       "Volume    0.0\n",
       "dtype: float64"
      ]
     },
     "execution_count": 11,
     "metadata": {},
     "output_type": "execute_result"
    }
   ],
   "source": [
    "df.isnull().sum()/len(df)*100"
   ]
  },
  {
   "cell_type": "code",
   "execution_count": 12,
   "id": "a3fd3ab9-1a3c-4b5e-a774-007c9f6aa154",
   "metadata": {},
   "outputs": [
    {
     "data": {
      "text/plain": [
       "<AxesSubplot:>"
      ]
     },
     "execution_count": 12,
     "metadata": {},
     "output_type": "execute_result"
    },
    {
     "data": {
      "image/png": "[encoded data removed]",
      "text/plain": [
       "<Figure size 432x288 with 2 Axes>"
      ]
     },
     "metadata": {
      "needs_background": "light"
     },
     "output_type": "display_data"
    }
   ],
   "source": [
    "sns.heatmap(df.corr(), annot = True)"
   ]
  },
  {
   "cell_type": "code",
   "execution_count": 13,
   "id": "02ecfbdb-fe0b-4a0c-8dd9-fd714dbae79e",
   "metadata": {},
   "outputs": [
    {
     "data": {
      "text/plain": [
       "<seaborn.axisgrid.PairGrid at 0x282bfc6b6d0>"
      ]
     },
     "execution_count": 13,
     "metadata": {},
     "output_type": "execute_result"
    },
    {
     "data": {
      "image/png": "[encoded data removed]",
      "text/plain": [
       "<Figure size 540x540 with 9 Axes>"
      ]
     },
     "metadata": {
      "needs_background": "light"
     },
     "output_type": "display_data"
    }
   ],
   "source": [
    "sns.pairplot(df,corner = True)"
   ]
  },
  {
   "cell_type": "code",
   "execution_count": 14,
   "id": "a2799cc8-5c71-47bf-8bc5-1e3db92dba29",
   "metadata": {},
   "outputs": [],
   "source": [
    "df_test = pd.read_csv('Google_Stock_Price_Test.csv')"
   ]
  },
  {
   "cell_type": "code",
   "execution_count": 15,
   "id": "2528faf8-62b8-4914-9454-854ebc3a8277",
   "metadata": {},
   "outputs": [
    {
     "data": {
      "text/html": [
       "<div>\n",
       "<style scoped>\n",
       "    .dataframe tbody tr th:only-of-type {\n",
       "        vertical-align: middle;\n",
       "    }\n",
       "\n",
       "    .dataframe tbody tr th {\n",
       "        vertical-align: top;\n",
       "    }\n",
       "\n",
       "    .dataframe thead th {\n",
       "        text-align: right;\n",
       "    }\n",
       "</style>\n",
       "<table border=\"1\" class=\"dataframe\">\n",
       "  <thead>\n",
       "    <tr style=\"text-align: right;\">\n",
       "      <th></th>\n",
       "      <th>Date</th>\n",
       "      <th>Open</th>\n",
       "      <th>High</th>\n",
       "      <th>Low</th>\n",
       "      <th>Close</th>\n",
       "      <th>Volume</th>\n",
       "    </tr>\n",
       "  </thead>\n",
       "  <tbody>\n",
       "    <tr>\n",
       "      <th>0</th>\n",
       "      <td>1/3/2012</td>\n",
       "      <td>325.25</td>\n",
       "      <td>332.83</td>\n",
       "      <td>324.97</td>\n",
       "      <td>663.59</td>\n",
       "      <td>7,380,500</td>\n",
       "    </tr>\n",
       "    <tr>\n",
       "      <th>1</th>\n",
       "      <td>1/4/2012</td>\n",
       "      <td>331.27</td>\n",
       "      <td>333.87</td>\n",
       "      <td>329.08</td>\n",
       "      <td>666.45</td>\n",
       "      <td>5,749,400</td>\n",
       "    </tr>\n",
       "    <tr>\n",
       "      <th>2</th>\n",
       "      <td>1/5/2012</td>\n",
       "      <td>329.83</td>\n",
       "      <td>330.75</td>\n",
       "      <td>326.89</td>\n",
       "      <td>657.21</td>\n",
       "      <td>6,590,300</td>\n",
       "    </tr>\n",
       "    <tr>\n",
       "      <th>3</th>\n",
       "      <td>1/6/2012</td>\n",
       "      <td>328.34</td>\n",
       "      <td>328.77</td>\n",
       "      <td>323.68</td>\n",
       "      <td>648.24</td>\n",
       "      <td>5,405,900</td>\n",
       "    </tr>\n",
       "    <tr>\n",
       "      <th>4</th>\n",
       "      <td>1/9/2012</td>\n",
       "      <td>322.04</td>\n",
       "      <td>322.29</td>\n",
       "      <td>309.46</td>\n",
       "      <td>620.76</td>\n",
       "      <td>11,688,800</td>\n",
       "    </tr>\n",
       "  </tbody>\n",
       "</table>\n",
       "</div>"
      ],
      "text/plain": [
       "       Date    Open    High     Low   Close      Volume\n",
       "0  1/3/2012  325.25  332.83  324.97  663.59   7,380,500\n",
       "1  1/4/2012  331.27  333.87  329.08  666.45   5,749,400\n",
       "2  1/5/2012  329.83  330.75  326.89  657.21   6,590,300\n",
       "3  1/6/2012  328.34  328.77  323.68  648.24   5,405,900\n",
       "4  1/9/2012  322.04  322.29  309.46  620.76  11,688,800"
      ]
     },
     "execution_count": 15,
     "metadata": {},
     "output_type": "execute_result"
    }
   ],
   "source": [
    "df.head()"
   ]
  },
  {
   "cell_type": "code",
   "execution_count": 16,
   "id": "e7cfc72f-29c6-44b0-8f05-73f940906b2f",
   "metadata": {},
   "outputs": [],
   "source": [
    "training_set = df.iloc[:,1:2].values"
   ]
  },
  {
   "cell_type": "code",
   "execution_count": 17,
   "id": "edca23f4-3486-4f2c-ab13-2a31bded47e6",
   "metadata": {},
   "outputs": [
    {
     "data": {
      "text/plain": [
       "array([[325.25],\n",
       "       [331.27],\n",
       "       [329.83],\n",
       "       ...,\n",
       "       [793.7 ],\n",
       "       [783.33],\n",
       "       [782.75]])"
      ]
     },
     "execution_count": 17,
     "metadata": {},
     "output_type": "execute_result"
    }
   ],
   "source": [
    "training_set"
   ]
  },
  {
   "cell_type": "code",
   "execution_count": 18,
   "id": "cbdb5da6-9855-473e-87ec-52a4ac6dc5d3",
   "metadata": {},
   "outputs": [
    {
     "data": {
      "text/plain": [
       "numpy.ndarray"
      ]
     },
     "execution_count": 18,
     "metadata": {},
     "output_type": "execute_result"
    }
   ],
   "source": [
    "type(training_set)"
   ]
  },
  {
   "cell_type": "code",
   "execution_count": 19,
   "id": "c7b7f3f9-1f97-4092-8144-3bca1ddcaaf9",
   "metadata": {},
   "outputs": [],
   "source": [
    "# Feature Scalling\n",
    "from sklearn.preprocessing import MinMaxScaler\n",
    "sc = MinMaxScaler()\n",
    "training_set_scaled = sc.fit_transform(training_set)"
   ]
  },
  {
   "cell_type": "code",
   "execution_count": 20,
   "id": "a9a49e90-1b9d-4058-b283-8ea1fee353c5",
   "metadata": {
    "tags": []
   },
   "outputs": [
    {
     "data": {
      "text/plain": [
       "0     325.25\n",
       "1     331.27\n",
       "2     329.83\n",
       "3     328.34\n",
       "4     322.04\n",
       "5     313.70\n",
       "6     310.59\n",
       "7     314.43\n",
       "8     311.96\n",
       "9     314.81\n",
       "10    312.14\n",
       "11    319.30\n",
       "12    294.16\n",
       "13    291.91\n",
       "14    292.07\n",
       "15    287.68\n",
       "16    284.92\n",
       "17    284.32\n",
       "18    287.95\n",
       "19    290.41\n",
       "20    291.38\n",
       "21    291.34\n",
       "22    294.23\n",
       "23    296.39\n",
       "24    302.44\n",
       "25    303.18\n",
       "26    304.87\n",
       "27    302.81\n",
       "28    304.11\n",
       "29    304.63\n",
       "30    305.32\n",
       "31    300.28\n",
       "32    301.36\n",
       "33    300.81\n",
       "34    304.84\n",
       "35    302.37\n",
       "36    302.54\n",
       "37    302.16\n",
       "38    303.86\n",
       "39    308.14\n",
       "40    309.97\n",
       "41    309.84\n",
       "42    309.06\n",
       "43    302.89\n",
       "44    303.39\n",
       "45    303.88\n",
       "46    302.84\n",
       "47    298.88\n",
       "48    303.24\n",
       "49    306.35\n",
       "50    307.15\n",
       "51    309.29\n",
       "52    310.40\n",
       "53    314.28\n",
       "54    316.12\n",
       "55    318.06\n",
       "56    322.09\n",
       "57    321.30\n",
       "58    322.31\n",
       "59    324.80\n",
       "Name: Open, dtype: float64"
      ]
     },
     "execution_count": 20,
     "metadata": {},
     "output_type": "execute_result"
    }
   ],
   "source": [
    "df['Open'].head(60)"
   ]
  },
  {
   "cell_type": "markdown",
   "id": "4af0d494-3fa4-4d7c-befe-da6d59837e54",
   "metadata": {},
   "source": [
    "# Creating a Data with 60 timestamp and 1 o/p"
   ]
  },
  {
   "cell_type": "code",
   "execution_count": 21,
   "id": "3aa8b5b5-23bb-4018-8599-af3c82b91fc4",
   "metadata": {},
   "outputs": [],
   "source": [
    "x_train = []\n",
    "y_train = []\n",
    "for i in range(60,1258):\n",
    "    x_train.append(training_set_scaled[i-60:i,0])\n",
    "    y_train.append(training_set_scaled[i,0])\n",
    "x_train, y_train = np.array(x_train), np.array(y_train)"
   ]
  },
  {
   "cell_type": "code",
   "execution_count": 22,
   "id": "f3c231fd-0cd6-4a41-a72f-ac736185e3bb",
   "metadata": {},
   "outputs": [
    {
     "data": {
      "text/plain": [
       "numpy.ndarray"
      ]
     },
     "execution_count": 22,
     "metadata": {},
     "output_type": "execute_result"
    }
   ],
   "source": [
    "type(x_train)"
   ]
  },
  {
   "cell_type": "code",
   "execution_count": 23,
   "id": "005be765-dbee-44fe-af5c-7e232e68f42a",
   "metadata": {},
   "outputs": [
    {
     "data": {
      "text/plain": [
       "numpy.ndarray"
      ]
     },
     "execution_count": 23,
     "metadata": {},
     "output_type": "execute_result"
    }
   ],
   "source": [
    "type(y_train)"
   ]
  },
  {
   "cell_type": "code",
   "execution_count": 24,
   "id": "278416b6-2606-4d31-bd24-115c372741b7",
   "metadata": {},
   "outputs": [
    {
     "data": {
      "text/plain": [
       "(1198, 60)"
      ]
     },
     "execution_count": 24,
     "metadata": {},
     "output_type": "execute_result"
    }
   ],
   "source": [
    "x_train.shape"
   ]
  },
  {
   "cell_type": "code",
   "execution_count": 25,
   "id": "aa90b98d-72c6-4404-ad04-3c4d9c9c2926",
   "metadata": {
    "tags": []
   },
   "outputs": [],
   "source": [
    "#(1198,60,1)\n",
    "#Reshaping the data\n",
    "x_train= np.reshape(x_train,(x_train.shape[0], x_train.shape[1],1))"
   ]
  },
  {
   "cell_type": "code",
   "execution_count": 26,
   "id": "d9292e6e-7e49-41a3-8ee2-0d74e13d65bc",
   "metadata": {},
   "outputs": [
    {
     "data": {
      "text/plain": [
       "(1198, 60, 1)"
      ]
     },
     "execution_count": 26,
     "metadata": {},
     "output_type": "execute_result"
    }
   ],
   "source": [
    "x_train.shape"
   ]
  },
  {
   "cell_type": "code",
   "execution_count": 27,
   "id": "9e1a13b0-ea7e-4378-9e89-ca06129713e4",
   "metadata": {},
   "outputs": [],
   "source": [
    "# Building The RNN Model"
   ]
  },
  {
   "cell_type": "code",
   "execution_count": 28,
   "id": "3f37d9be-9509-47cf-93a4-1b2ec83e143c",
   "metadata": {},
   "outputs": [],
   "source": [
    "# Importing Libraries\n",
    "import keras\n",
    "from keras.models import Sequential\n",
    "from keras.layers import Dense\n",
    "from keras.layers import LSTM #(Long Short Term m/m)"
   ]
  },
  {
   "cell_type": "code",
   "execution_count": 29,
   "id": "1a899863-d539-4053-8ef6-3766833744ca",
   "metadata": {},
   "outputs": [],
   "source": [
    "from keras.layers import Dropout"
   ]
  },
  {
   "cell_type": "code",
   "execution_count": 30,
   "id": "09391159-d201-4399-8e9d-7735d58adcaf",
   "metadata": {},
   "outputs": [],
   "source": [
    "rnn_reg = Sequential()\n",
    "# Adding First LSTM Layer\n",
    "rnn_reg.add(LSTM(units = 50, return_sequences = True, input_shape=(x_train.shape[1],1)))"
   ]
  },
  {
   "cell_type": "code",
   "execution_count": 31,
   "id": "a67f8810-166a-45f6-947c-56b62d72f81e",
   "metadata": {},
   "outputs": [],
   "source": [
    "rnn_reg.add(Dropout(0.2))"
   ]
  },
  {
   "cell_type": "code",
   "execution_count": 32,
   "id": "cd7a18c2-11b8-4b5c-bcca-bc6ce4a19e23",
   "metadata": {},
   "outputs": [],
   "source": [
    "# Adding Second LSTM Layer\n",
    "rnn_reg.add(LSTM(units = 50, return_sequences = True))\n",
    "rnn_reg.add(Dropout(0.2))"
   ]
  },
  {
   "cell_type": "code",
   "execution_count": 33,
   "id": "95312880-0ceb-44c3-885a-8e5c6b548243",
   "metadata": {},
   "outputs": [],
   "source": [
    "# Adding Third LSTM Layer\n",
    "rnn_reg.add(LSTM(units = 50, return_sequences = True))\n",
    "rnn_reg.add(Dropout(0.2))"
   ]
  },
  {
   "cell_type": "code",
   "execution_count": 34,
   "id": "ada189c4-0891-4174-84ac-5059ede310dc",
   "metadata": {},
   "outputs": [],
   "source": [
    "# Adding Fourth LSTM Layer\n",
    "rnn_reg.add(LSTM(units=50))\n",
    "rnn_reg.add(Dropout(0.2))"
   ]
  },
  {
   "cell_type": "code",
   "execution_count": 35,
   "id": "cb02c8a1-1094-4b2a-b8da-a6eafd7a03e7",
   "metadata": {},
   "outputs": [],
   "source": [
    "# Adding The Output Layer"
   ]
  },
  {
   "cell_type": "code",
   "execution_count": 36,
   "id": "74fa548a-1213-4322-b168-df9f4ff57ade",
   "metadata": {},
   "outputs": [],
   "source": [
    "rnn_reg.add(Dense(units = 1))"
   ]
  },
  {
   "cell_type": "code",
   "execution_count": 37,
   "id": "69de2f01-2966-4dbf-8fe6-7c25cc0c4d50",
   "metadata": {},
   "outputs": [],
   "source": [
    "# Model Compilation\n",
    "rnn_reg.compile(optimizer = 'adam', loss= 'mse', metrics=['mae'])"
   ]
  },
  {
   "cell_type": "code",
   "execution_count": 38,
   "id": "64aede6b-5147-400c-843c-3de74e2d3fa9",
   "metadata": {},
   "outputs": [
    {
     "name": "stdout",
     "output_type": "stream",
     "text": [
      "Model: \"sequential\"\n",
      "_________________________________________________________________\n",
      " Layer (type)                Output Shape              Param #   \n",
      "=================================================================\n",
      " lstm (LSTM)                 (None, 60, 50)            10400     \n",
      "                                                                 \n",
      " dropout (Dropout)           (None, 60, 50)            0         \n",
      "                                                                 \n",
      " lstm_1 (LSTM)               (None, 60, 50)            20200     \n",
      "                                                                 \n",
      " dropout_1 (Dropout)         (None, 60, 50)            0         \n",
      "                                                                 \n",
      " lstm_2 (LSTM)               (None, 60, 50)            20200     \n",
      "                                                                 \n",
      " dropout_2 (Dropout)         (None, 60, 50)            0         \n",
      "                                                                 \n",
      " lstm_3 (LSTM)               (None, 50)                20200     \n",
      "                                                                 \n",
      " dropout_3 (Dropout)         (None, 50)                0         \n",
      "                                                                 \n",
      " dense (Dense)               (None, 1)                 51        \n",
      "                                                                 \n",
      "=================================================================\n",
      "Total params: 71,051\n",
      "Trainable params: 71,051\n",
      "Non-trainable params: 0\n",
      "_________________________________________________________________\n"
     ]
    }
   ],
   "source": [
    "# Model Summary\n",
    "rnn_reg.summary()"
   ]
  },
  {
   "cell_type": "code",
   "execution_count": 39,
   "id": "821d2e42-8092-47b0-ad60-d6e31147403e",
   "metadata": {
    "scrolled": true,
    "tags": []
   },
   "outputs": [
    {
     "name": "stdout",
     "output_type": "stream",
     "text": [
      "Epoch 1/100\n",
      "26/26 [==============================] - 10s 135ms/step - loss: 0.0234 - mae: 0.1146 - val_loss: 0.0537 - val_mae: 0.2209\n",
      "Epoch 2/100\n",
      "26/26 [==============================] - 2s 68ms/step - loss: 0.0041 - mae: 0.0498 - val_loss: 0.0244 - val_mae: 0.1437\n",
      "Epoch 3/100\n",
      "26/26 [==============================] - 2s 67ms/step - loss: 0.0046 - mae: 0.0517 - val_loss: 0.0183 - val_mae: 0.1209\n",
      "Epoch 4/100\n",
      "26/26 [==============================] - 2s 69ms/step - loss: 0.0028 - mae: 0.0409 - val_loss: 0.0167 - val_mae: 0.1149\n",
      "Epoch 5/100\n",
      "26/26 [==============================] - 2s 69ms/step - loss: 0.0026 - mae: 0.0398 - val_loss: 0.0131 - val_mae: 0.1004\n",
      "Epoch 6/100\n",
      "26/26 [==============================] - 2s 67ms/step - loss: 0.0025 - mae: 0.0396 - val_loss: 0.0132 - val_mae: 0.1009\n",
      "Epoch 7/100\n",
      "26/26 [==============================] - 2s 69ms/step - loss: 0.0025 - mae: 0.0383 - val_loss: 0.0164 - val_mae: 0.1145\n",
      "Epoch 8/100\n",
      "26/26 [==============================] - 2s 68ms/step - loss: 0.0024 - mae: 0.0381 - val_loss: 0.0068 - val_mae: 0.0707\n",
      "Epoch 9/100\n",
      "26/26 [==============================] - 2s 67ms/step - loss: 0.0027 - mae: 0.0400 - val_loss: 0.0157 - val_mae: 0.1119\n",
      "Epoch 10/100\n",
      "26/26 [==============================] - 2s 69ms/step - loss: 0.0023 - mae: 0.0367 - val_loss: 0.0067 - val_mae: 0.0700\n",
      "Epoch 11/100\n",
      "26/26 [==============================] - 2s 69ms/step - loss: 0.0022 - mae: 0.0361 - val_loss: 0.0089 - val_mae: 0.0819\n",
      "Epoch 12/100\n",
      "26/26 [==============================] - 2s 67ms/step - loss: 0.0023 - mae: 0.0370 - val_loss: 0.0119 - val_mae: 0.0960\n",
      "Epoch 13/100\n",
      "26/26 [==============================] - 2s 68ms/step - loss: 0.0021 - mae: 0.0350 - val_loss: 0.0228 - val_mae: 0.1400\n",
      "Epoch 14/100\n",
      "26/26 [==============================] - 2s 69ms/step - loss: 0.0038 - mae: 0.0486 - val_loss: 0.0057 - val_mae: 0.0647\n",
      "Epoch 15/100\n",
      "26/26 [==============================] - 2s 68ms/step - loss: 0.0026 - mae: 0.0391 - val_loss: 0.0106 - val_mae: 0.0905\n",
      "Epoch 16/100\n",
      "26/26 [==============================] - 2s 71ms/step - loss: 0.0021 - mae: 0.0341 - val_loss: 0.0150 - val_mae: 0.1099\n",
      "Epoch 17/100\n",
      "26/26 [==============================] - 2s 68ms/step - loss: 0.0020 - mae: 0.0351 - val_loss: 0.0114 - val_mae: 0.0941\n",
      "Epoch 18/100\n",
      "26/26 [==============================] - 2s 68ms/step - loss: 0.0019 - mae: 0.0335 - val_loss: 0.0151 - val_mae: 0.1106\n",
      "Epoch 19/100\n",
      "26/26 [==============================] - 2s 68ms/step - loss: 0.0021 - mae: 0.0351 - val_loss: 0.0102 - val_mae: 0.0887\n",
      "Epoch 20/100\n",
      "26/26 [==============================] - 2s 69ms/step - loss: 0.0018 - mae: 0.0328 - val_loss: 0.0207 - val_mae: 0.1328\n",
      "Epoch 21/100\n",
      "26/26 [==============================] - 2s 69ms/step - loss: 0.0019 - mae: 0.0339 - val_loss: 0.0116 - val_mae: 0.0954\n",
      "Epoch 22/100\n",
      "26/26 [==============================] - 2s 69ms/step - loss: 0.0019 - mae: 0.0331 - val_loss: 0.0076 - val_mae: 0.0756\n",
      "Epoch 23/100\n",
      "26/26 [==============================] - 2s 69ms/step - loss: 0.0020 - mae: 0.0338 - val_loss: 0.0130 - val_mae: 0.1024\n",
      "Epoch 24/100\n",
      "26/26 [==============================] - 2s 77ms/step - loss: 0.0020 - mae: 0.0343 - val_loss: 0.0049 - val_mae: 0.0600\n",
      "Epoch 25/100\n",
      "26/26 [==============================] - 2s 82ms/step - loss: 0.0019 - mae: 0.0331 - val_loss: 0.0068 - val_mae: 0.0714\n",
      "Epoch 26/100\n",
      "26/26 [==============================] - 2s 78ms/step - loss: 0.0019 - mae: 0.0335 - val_loss: 0.0107 - val_mae: 0.0918\n",
      "Epoch 27/100\n",
      "26/26 [==============================] - 2s 72ms/step - loss: 0.0022 - mae: 0.0354 - val_loss: 0.0055 - val_mae: 0.0633\n",
      "Epoch 28/100\n",
      "26/26 [==============================] - 2s 73ms/step - loss: 0.0019 - mae: 0.0327 - val_loss: 0.0047 - val_mae: 0.0581\n",
      "Epoch 29/100\n",
      "26/26 [==============================] - 2s 74ms/step - loss: 0.0019 - mae: 0.0328 - val_loss: 0.0166 - val_mae: 0.1181\n",
      "Epoch 30/100\n",
      "26/26 [==============================] - 2s 71ms/step - loss: 0.0018 - mae: 0.0325 - val_loss: 0.0085 - val_mae: 0.0811\n",
      "Epoch 31/100\n",
      "26/26 [==============================] - 2s 74ms/step - loss: 0.0017 - mae: 0.0319 - val_loss: 0.0120 - val_mae: 0.0982\n",
      "Epoch 32/100\n",
      "26/26 [==============================] - 2s 71ms/step - loss: 0.0020 - mae: 0.0346 - val_loss: 0.0144 - val_mae: 0.1085\n",
      "Epoch 33/100\n",
      "26/26 [==============================] - 2s 70ms/step - loss: 0.0016 - mae: 0.0301 - val_loss: 0.0090 - val_mae: 0.0837\n",
      "Epoch 34/100\n",
      "26/26 [==============================] - 2s 69ms/step - loss: 0.0015 - mae: 0.0294 - val_loss: 0.0089 - val_mae: 0.0829\n",
      "Epoch 35/100\n",
      "26/26 [==============================] - 2s 71ms/step - loss: 0.0014 - mae: 0.0288 - val_loss: 0.0080 - val_mae: 0.0783\n",
      "Epoch 36/100\n",
      "26/26 [==============================] - 2s 69ms/step - loss: 0.0016 - mae: 0.0309 - val_loss: 0.0129 - val_mae: 0.1029\n",
      "Epoch 37/100\n",
      "26/26 [==============================] - 2s 68ms/step - loss: 0.0016 - mae: 0.0307 - val_loss: 0.0095 - val_mae: 0.0863\n",
      "Epoch 38/100\n",
      "26/26 [==============================] - 2s 69ms/step - loss: 0.0016 - mae: 0.0308 - val_loss: 0.0057 - val_mae: 0.0647\n",
      "Epoch 39/100\n",
      "26/26 [==============================] - 2s 69ms/step - loss: 0.0016 - mae: 0.0303 - val_loss: 0.0143 - val_mae: 0.1095\n",
      "Epoch 40/100\n",
      "26/26 [==============================] - 2s 70ms/step - loss: 0.0025 - mae: 0.0390 - val_loss: 0.0134 - val_mae: 0.1047\n",
      "Epoch 41/100\n",
      "26/26 [==============================] - 2s 68ms/step - loss: 0.0016 - mae: 0.0313 - val_loss: 0.0139 - val_mae: 0.1069\n",
      "Epoch 42/100\n",
      "26/26 [==============================] - 2s 69ms/step - loss: 0.0015 - mae: 0.0299 - val_loss: 0.0065 - val_mae: 0.0701\n",
      "Epoch 43/100\n",
      "26/26 [==============================] - 2s 69ms/step - loss: 0.0013 - mae: 0.0285 - val_loss: 0.0098 - val_mae: 0.0880\n",
      "Epoch 44/100\n",
      "26/26 [==============================] - 2s 69ms/step - loss: 0.0014 - mae: 0.0286 - val_loss: 0.0106 - val_mae: 0.0924\n",
      "Epoch 45/100\n",
      "26/26 [==============================] - 2s 72ms/step - loss: 0.0014 - mae: 0.0294 - val_loss: 0.0057 - val_mae: 0.0650\n",
      "Epoch 46/100\n",
      "26/26 [==============================] - 2s 70ms/step - loss: 0.0013 - mae: 0.0275 - val_loss: 0.0066 - val_mae: 0.0708\n",
      "Epoch 47/100\n",
      "26/26 [==============================] - 2s 69ms/step - loss: 0.0013 - mae: 0.0281 - val_loss: 0.0108 - val_mae: 0.0936\n",
      "Epoch 48/100\n",
      "26/26 [==============================] - 2s 68ms/step - loss: 0.0013 - mae: 0.0278 - val_loss: 0.0046 - val_mae: 0.0583\n",
      "Epoch 49/100\n",
      "26/26 [==============================] - 2s 69ms/step - loss: 0.0014 - mae: 0.0280 - val_loss: 0.0086 - val_mae: 0.0821\n",
      "Epoch 50/100\n",
      "26/26 [==============================] - 2s 70ms/step - loss: 0.0014 - mae: 0.0280 - val_loss: 0.0106 - val_mae: 0.0928\n",
      "Epoch 51/100\n",
      "26/26 [==============================] - 2s 74ms/step - loss: 0.0014 - mae: 0.0288 - val_loss: 0.0083 - val_mae: 0.0808\n",
      "Epoch 52/100\n",
      "26/26 [==============================] - 2s 73ms/step - loss: 0.0012 - mae: 0.0266 - val_loss: 0.0073 - val_mae: 0.0750\n",
      "Epoch 53/100\n",
      "26/26 [==============================] - 2s 79ms/step - loss: 0.0014 - mae: 0.0286 - val_loss: 0.0026 - val_mae: 0.0420\n",
      "Epoch 54/100\n",
      "26/26 [==============================] - 2s 79ms/step - loss: 0.0013 - mae: 0.0274 - val_loss: 0.0028 - val_mae: 0.0441\n",
      "Epoch 55/100\n",
      "26/26 [==============================] - 2s 74ms/step - loss: 0.0013 - mae: 0.0278 - val_loss: 0.0028 - val_mae: 0.0440\n",
      "Epoch 56/100\n",
      "26/26 [==============================] - 2s 74ms/step - loss: 0.0015 - mae: 0.0296 - val_loss: 0.0031 - val_mae: 0.0465\n",
      "Epoch 57/100\n",
      "26/26 [==============================] - 2s 73ms/step - loss: 0.0011 - mae: 0.0263 - val_loss: 0.0036 - val_mae: 0.0510\n",
      "Epoch 58/100\n",
      "26/26 [==============================] - 2s 76ms/step - loss: 0.0011 - mae: 0.0254 - val_loss: 0.0035 - val_mae: 0.0499\n",
      "Epoch 59/100\n",
      "26/26 [==============================] - 2s 69ms/step - loss: 0.0012 - mae: 0.0271 - val_loss: 0.0052 - val_mae: 0.0623\n",
      "Epoch 60/100\n",
      "26/26 [==============================] - 2s 71ms/step - loss: 0.0012 - mae: 0.0258 - val_loss: 0.0102 - val_mae: 0.0911\n",
      "Epoch 61/100\n",
      "26/26 [==============================] - 2s 76ms/step - loss: 0.0013 - mae: 0.0279 - val_loss: 0.0054 - val_mae: 0.0635\n",
      "Epoch 62/100\n",
      "26/26 [==============================] - 2s 74ms/step - loss: 0.0012 - mae: 0.0267 - val_loss: 0.0025 - val_mae: 0.0413\n",
      "Epoch 63/100\n",
      "26/26 [==============================] - 2s 70ms/step - loss: 0.0015 - mae: 0.0298 - val_loss: 0.0019 - val_mae: 0.0313\n",
      "Epoch 64/100\n",
      "26/26 [==============================] - 2s 69ms/step - loss: 0.0017 - mae: 0.0301 - val_loss: 0.0036 - val_mae: 0.0510\n",
      "Epoch 65/100\n",
      "26/26 [==============================] - 2s 69ms/step - loss: 0.0013 - mae: 0.0284 - val_loss: 0.0094 - val_mae: 0.0867\n",
      "Epoch 66/100\n",
      "26/26 [==============================] - 2s 68ms/step - loss: 0.0011 - mae: 0.0251 - val_loss: 0.0040 - val_mae: 0.0541\n",
      "Epoch 67/100\n",
      "26/26 [==============================] - 2s 69ms/step - loss: 0.0012 - mae: 0.0263 - val_loss: 0.0090 - val_mae: 0.0852\n",
      "Epoch 68/100\n",
      "26/26 [==============================] - 2s 68ms/step - loss: 0.0013 - mae: 0.0283 - val_loss: 0.0063 - val_mae: 0.0700\n",
      "Epoch 69/100\n",
      "26/26 [==============================] - 2s 69ms/step - loss: 0.0011 - mae: 0.0250 - val_loss: 0.0041 - val_mae: 0.0553\n",
      "Epoch 70/100\n",
      "26/26 [==============================] - 2s 72ms/step - loss: 0.0011 - mae: 0.0247 - val_loss: 0.0074 - val_mae: 0.0768\n",
      "Epoch 71/100\n",
      "26/26 [==============================] - 2s 73ms/step - loss: 0.0011 - mae: 0.0256 - val_loss: 0.0061 - val_mae: 0.0683\n",
      "Epoch 72/100\n",
      "26/26 [==============================] - 2s 71ms/step - loss: 9.6399e-04 - mae: 0.0239 - val_loss: 0.0050 - val_mae: 0.0616\n",
      "Epoch 73/100\n",
      "26/26 [==============================] - 2s 72ms/step - loss: 0.0012 - mae: 0.0262 - val_loss: 0.0022 - val_mae: 0.0383\n",
      "Epoch 74/100\n",
      "26/26 [==============================] - 2s 69ms/step - loss: 0.0013 - mae: 0.0280 - val_loss: 0.0071 - val_mae: 0.0744\n",
      "Epoch 75/100\n",
      "26/26 [==============================] - 2s 69ms/step - loss: 0.0011 - mae: 0.0251 - val_loss: 0.0084 - val_mae: 0.0818\n",
      "Epoch 76/100\n",
      "26/26 [==============================] - 2s 70ms/step - loss: 0.0011 - mae: 0.0252 - val_loss: 0.0081 - val_mae: 0.0804\n",
      "Epoch 77/100\n",
      "26/26 [==============================] - 2s 69ms/step - loss: 0.0010 - mae: 0.0247 - val_loss: 0.0031 - val_mae: 0.0469\n",
      "Epoch 78/100\n",
      "26/26 [==============================] - 2s 69ms/step - loss: 9.6975e-04 - mae: 0.0240 - val_loss: 0.0071 - val_mae: 0.0751\n",
      "Epoch 79/100\n",
      "26/26 [==============================] - 2s 80ms/step - loss: 9.9714e-04 - mae: 0.0242 - val_loss: 0.0031 - val_mae: 0.0472\n",
      "Epoch 80/100\n",
      "26/26 [==============================] - 2s 80ms/step - loss: 0.0010 - mae: 0.0243 - val_loss: 0.0042 - val_mae: 0.0561\n",
      "Epoch 81/100\n",
      "26/26 [==============================] - 2s 76ms/step - loss: 0.0010 - mae: 0.0243 - val_loss: 0.0072 - val_mae: 0.0760\n",
      "Epoch 82/100\n",
      "26/26 [==============================] - 2s 79ms/step - loss: 0.0014 - mae: 0.0293 - val_loss: 0.0085 - val_mae: 0.0830\n",
      "Epoch 83/100\n",
      "26/26 [==============================] - 2s 78ms/step - loss: 0.0010 - mae: 0.0238 - val_loss: 0.0046 - val_mae: 0.0591\n",
      "Epoch 84/100\n",
      "26/26 [==============================] - 2s 81ms/step - loss: 9.9149e-04 - mae: 0.0240 - val_loss: 0.0076 - val_mae: 0.0781\n",
      "Epoch 85/100\n",
      "26/26 [==============================] - 2s 70ms/step - loss: 0.0010 - mae: 0.0249 - val_loss: 0.0046 - val_mae: 0.0592\n",
      "Epoch 86/100\n",
      "26/26 [==============================] - 2s 76ms/step - loss: 9.5581e-04 - mae: 0.0235 - val_loss: 0.0039 - val_mae: 0.0537\n",
      "Epoch 87/100\n",
      "26/26 [==============================] - 2s 77ms/step - loss: 9.6159e-04 - mae: 0.0235 - val_loss: 0.0030 - val_mae: 0.0458\n",
      "Epoch 88/100\n",
      "26/26 [==============================] - 2s 81ms/step - loss: 0.0010 - mae: 0.0245 - val_loss: 0.0044 - val_mae: 0.0578\n",
      "Epoch 89/100\n",
      "26/26 [==============================] - 2s 81ms/step - loss: 0.0011 - mae: 0.0250 - val_loss: 0.0038 - val_mae: 0.0532\n",
      "Epoch 90/100\n",
      "26/26 [==============================] - 2s 79ms/step - loss: 9.5640e-04 - mae: 0.0236 - val_loss: 0.0028 - val_mae: 0.0442\n",
      "Epoch 91/100\n",
      "26/26 [==============================] - 2s 73ms/step - loss: 0.0012 - mae: 0.0262 - val_loss: 0.0040 - val_mae: 0.0543\n",
      "Epoch 92/100\n",
      "26/26 [==============================] - 2s 78ms/step - loss: 9.7753e-04 - mae: 0.0243 - val_loss: 0.0053 - val_mae: 0.0641\n",
      "Epoch 93/100\n",
      "26/26 [==============================] - 2s 91ms/step - loss: 9.2190e-04 - mae: 0.0236 - val_loss: 0.0045 - val_mae: 0.0587\n",
      "Epoch 94/100\n",
      "26/26 [==============================] - 2s 86ms/step - loss: 8.9756e-04 - mae: 0.0230 - val_loss: 0.0077 - val_mae: 0.0791\n",
      "Epoch 95/100\n",
      "26/26 [==============================] - 2s 91ms/step - loss: 0.0010 - mae: 0.0248 - val_loss: 0.0064 - val_mae: 0.0714\n",
      "Epoch 96/100\n",
      "26/26 [==============================] - 2s 87ms/step - loss: 9.8095e-04 - mae: 0.0235 - val_loss: 0.0050 - val_mae: 0.0622\n",
      "Epoch 97/100\n",
      "26/26 [==============================] - 2s 83ms/step - loss: 8.4895e-04 - mae: 0.0223 - val_loss: 0.0034 - val_mae: 0.0497\n",
      "Epoch 98/100\n",
      "26/26 [==============================] - 2s 74ms/step - loss: 8.7405e-04 - mae: 0.0222 - val_loss: 0.0031 - val_mae: 0.0472\n",
      "Epoch 99/100\n",
      "26/26 [==============================] - 2s 78ms/step - loss: 9.0242e-04 - mae: 0.0226 - val_loss: 0.0044 - val_mae: 0.0574\n",
      "Epoch 100/100\n",
      "26/26 [==============================] - 2s 84ms/step - loss: 8.5063e-04 - mae: 0.0223 - val_loss: 0.0040 - val_mae: 0.0551\n"
     ]
    },
    {
     "data": {
      "text/plain": [
       "<keras.callbacks.History at 0x282d1782370>"
      ]
     },
     "execution_count": 39,
     "metadata": {},
     "output_type": "execute_result"
    }
   ],
   "source": [
    "# Model Training\n",
    "rnn_reg.fit(x_train, y_train, validation_split = 0.33, batch_size = 32, epochs =100)"
   ]
  },
  {
   "cell_type": "markdown",
   "id": "edcf456f-9ac9-4e2a-b36f-952c7f9899c0",
   "metadata": {},
   "source": [
    "# Real Stock Price Of 2017"
   ]
  },
  {
   "cell_type": "code",
   "execution_count": 40,
   "id": "e42409df-3223-433f-933d-bcd928c0422c",
   "metadata": {},
   "outputs": [
    {
     "data": {
      "text/html": [
       "<div>\n",
       "<style scoped>\n",
       "    .dataframe tbody tr th:only-of-type {\n",
       "        vertical-align: middle;\n",
       "    }\n",
       "\n",
       "    .dataframe tbody tr th {\n",
       "        vertical-align: top;\n",
       "    }\n",
       "\n",
       "    .dataframe thead th {\n",
       "        text-align: right;\n",
       "    }\n",
       "</style>\n",
       "<table border=\"1\" class=\"dataframe\">\n",
       "  <thead>\n",
       "    <tr style=\"text-align: right;\">\n",
       "      <th></th>\n",
       "      <th>Date</th>\n",
       "      <th>Open</th>\n",
       "      <th>High</th>\n",
       "      <th>Low</th>\n",
       "      <th>Close</th>\n",
       "      <th>Volume</th>\n",
       "    </tr>\n",
       "  </thead>\n",
       "  <tbody>\n",
       "    <tr>\n",
       "      <th>0</th>\n",
       "      <td>1/3/2012</td>\n",
       "      <td>325.25</td>\n",
       "      <td>332.83</td>\n",
       "      <td>324.97</td>\n",
       "      <td>663.59</td>\n",
       "      <td>7,380,500</td>\n",
       "    </tr>\n",
       "    <tr>\n",
       "      <th>1</th>\n",
       "      <td>1/4/2012</td>\n",
       "      <td>331.27</td>\n",
       "      <td>333.87</td>\n",
       "      <td>329.08</td>\n",
       "      <td>666.45</td>\n",
       "      <td>5,749,400</td>\n",
       "    </tr>\n",
       "    <tr>\n",
       "      <th>2</th>\n",
       "      <td>1/5/2012</td>\n",
       "      <td>329.83</td>\n",
       "      <td>330.75</td>\n",
       "      <td>326.89</td>\n",
       "      <td>657.21</td>\n",
       "      <td>6,590,300</td>\n",
       "    </tr>\n",
       "    <tr>\n",
       "      <th>3</th>\n",
       "      <td>1/6/2012</td>\n",
       "      <td>328.34</td>\n",
       "      <td>328.77</td>\n",
       "      <td>323.68</td>\n",
       "      <td>648.24</td>\n",
       "      <td>5,405,900</td>\n",
       "    </tr>\n",
       "    <tr>\n",
       "      <th>4</th>\n",
       "      <td>1/9/2012</td>\n",
       "      <td>322.04</td>\n",
       "      <td>322.29</td>\n",
       "      <td>309.46</td>\n",
       "      <td>620.76</td>\n",
       "      <td>11,688,800</td>\n",
       "    </tr>\n",
       "  </tbody>\n",
       "</table>\n",
       "</div>"
      ],
      "text/plain": [
       "       Date    Open    High     Low   Close      Volume\n",
       "0  1/3/2012  325.25  332.83  324.97  663.59   7,380,500\n",
       "1  1/4/2012  331.27  333.87  329.08  666.45   5,749,400\n",
       "2  1/5/2012  329.83  330.75  326.89  657.21   6,590,300\n",
       "3  1/6/2012  328.34  328.77  323.68  648.24   5,405,900\n",
       "4  1/9/2012  322.04  322.29  309.46  620.76  11,688,800"
      ]
     },
     "execution_count": 40,
     "metadata": {},
     "output_type": "execute_result"
    }
   ],
   "source": [
    "df_test = pd.read_csv('Google_Stock_Price_Test.csv')\n",
    "df.head()"
   ]
  },
  {
   "cell_type": "code",
   "execution_count": 41,
   "id": "168d9126-dd40-4a92-8135-31722dcfa649",
   "metadata": {},
   "outputs": [],
   "source": [
    "real_stock_price = df_test.iloc[:,1:2].values"
   ]
  },
  {
   "cell_type": "code",
   "execution_count": 42,
   "id": "b4eaf31f-f0a0-4e4e-98a2-abdbc33d587b",
   "metadata": {},
   "outputs": [
    {
     "data": {
      "text/plain": [
       "array([[778.81],\n",
       "       [788.36],\n",
       "       [786.08],\n",
       "       [795.26],\n",
       "       [806.4 ],\n",
       "       [807.86],\n",
       "       [805.  ],\n",
       "       [807.14],\n",
       "       [807.48],\n",
       "       [807.08],\n",
       "       [805.81],\n",
       "       [805.12],\n",
       "       [806.91],\n",
       "       [807.25],\n",
       "       [822.3 ],\n",
       "       [829.62],\n",
       "       [837.81],\n",
       "       [834.71],\n",
       "       [814.66],\n",
       "       [796.86]])"
      ]
     },
     "execution_count": 42,
     "metadata": {},
     "output_type": "execute_result"
    }
   ],
   "source": [
    "real_stock_price"
   ]
  },
  {
   "cell_type": "code",
   "execution_count": 43,
   "id": "61522391-4bbe-40d7-955f-1b24230e3982",
   "metadata": {},
   "outputs": [],
   "source": [
    "# Merging Two DataSet"
   ]
  },
  {
   "cell_type": "code",
   "execution_count": 44,
   "id": "7c6816c7-b141-4617-9906-ce6c07da4389",
   "metadata": {
    "tags": []
   },
   "outputs": [
    {
     "data": {
      "text/plain": [
       "1278"
      ]
     },
     "execution_count": 44,
     "metadata": {},
     "output_type": "execute_result"
    }
   ],
   "source": [
    "dataset_total = pd.concat((df['Open'], df_test['Open']), axis = 0)\n",
    "len(dataset_total)"
   ]
  },
  {
   "cell_type": "code",
   "execution_count": 45,
   "id": "ed615164-a436-4d81-88d4-0d2b5b5ae51e",
   "metadata": {},
   "outputs": [
    {
     "data": {
      "text/plain": [
       "1278"
      ]
     },
     "execution_count": 45,
     "metadata": {},
     "output_type": "execute_result"
    }
   ],
   "source": [
    "len(dataset_total)"
   ]
  },
  {
   "cell_type": "code",
   "execution_count": 46,
   "id": "5109a6ee-43ce-4ffe-adcb-759c6cd5dda2",
   "metadata": {},
   "outputs": [
    {
     "data": {
      "text/plain": [
       "20"
      ]
     },
     "execution_count": 46,
     "metadata": {},
     "output_type": "execute_result"
    }
   ],
   "source": [
    "len(df_test)"
   ]
  },
  {
   "cell_type": "code",
   "execution_count": 47,
   "id": "2d9d8f18-5403-44e6-b2b1-5934665dca4b",
   "metadata": {},
   "outputs": [
    {
     "data": {
      "text/plain": [
       "1198"
      ]
     },
     "execution_count": 47,
     "metadata": {},
     "output_type": "execute_result"
    }
   ],
   "source": [
    "1258-60"
   ]
  },
  {
   "cell_type": "code",
   "execution_count": 48,
   "id": "9eb891c6-ceb8-4e9e-90e1-37207ed61349",
   "metadata": {},
   "outputs": [
    {
     "name": "stdout",
     "output_type": "stream",
     "text": [
      "1/1 [==============================] - 2s 2s/step\n"
     ]
    }
   ],
   "source": [
    "inputs = dataset_total[len(dataset_total)-len(df_test)-60:].values\n",
    "inputs = inputs.reshape(-1,1)\n",
    "inputs = sc.transform(inputs)\n",
    "x_test = []\n",
    "for i in range(60,80):\n",
    "    x_test.append(inputs[i-60:i,0])\n",
    "x_test = np.array(x_test)\n",
    "x_test = np.reshape(x_test, (x_test.shape[0], x_test.shape[1],1))\n",
    "predicted_stock_price = rnn_reg.predict(x_test)\n",
    "predicted_stock_price = sc.inverse_transform(predicted_stock_price)"
   ]
  },
  {
   "cell_type": "code",
   "execution_count": 49,
   "id": "ecf6bd04-9c78-4ff8-989d-1579de9a8b76",
   "metadata": {
    "tags": []
   },
   "outputs": [
    {
     "data": {
      "text/plain": [
       "array([[745.957  ],\n",
       "       [744.2814 ],\n",
       "       [743.13367],\n",
       "       [742.678  ],\n",
       "       [743.4018 ],\n",
       "       [745.80707],\n",
       "       [749.4529 ],\n",
       "       [753.2351 ],\n",
       "       [756.463  ],\n",
       "       [758.78357],\n",
       "       [760.1171 ],\n",
       "       [760.5349 ],\n",
       "       [760.2565 ],\n",
       "       [759.713  ],\n",
       "       [759.21576],\n",
       "       [759.8908 ],\n",
       "       [762.23236],\n",
       "       [766.21295],\n",
       "       [770.6935 ],\n",
       "       [773.3151 ]], dtype=float32)"
      ]
     },
     "execution_count": 49,
     "metadata": {},
     "output_type": "execute_result"
    }
   ],
   "source": [
    "predicted_stock_price"
   ]
  },
  {
   "cell_type": "markdown",
   "id": "c71aa781-b821-4201-9b22-971820c76fe6",
   "metadata": {},
   "source": [
    "# Visualizing the Trend Line"
   ]
  },
  {
   "cell_type": "code",
   "execution_count": 50,
   "id": "96da144b-dfad-48ab-90d6-930a09e8a2d8",
   "metadata": {},
   "outputs": [
    {
     "data": {
      "image/png": "[encoded data removed]",
      "text/plain": [
       "<Figure size 432x288 with 1 Axes>"
      ]
     },
     "metadata": {
      "needs_background": "light"
     },
     "output_type": "display_data"
    }
   ],
   "source": [
    "plt.plot(real_stock_price, color = 'red', label = 'Real Google Stock Price')\n",
    "plt.plot(predicted_stock_price, color = 'blue',label = 'Predicted Google Stock Price')\n",
    "plt.title('Google Stock Price Prediction')\n",
    "plt.xlabel('Time')\n",
    "plt.ylabel('Stock Price')\n",
    "plt.legend()\n",
    "plt.show()"
   ]
  },
  {
   "cell_type": "code",
   "execution_count": null,
   "id": "5ebadd25-0647-4f88-b014-dcb08f824ddd",
   "metadata": {},
   "outputs": [],
   "source": []
  }
 ],
 "metadata": {
  "kernelspec": {
   "display_name": "Python 3 (ipykernel)",
   "language": "python",
   "name": "python3"
  },
  "language_info": {
   "codemirror_mode": {
    "name": "ipython",
    "version": 3
   },
   "file_extension": ".py",
   "mimetype": "text/x-python",
   "name": "python",
   "nbconvert_exporter": "python",
   "pygments_lexer": "ipython3",
   "version": "3.9.12"
  }
 },
 "nbformat": 4,
 "nbformat_minor": 5
}
